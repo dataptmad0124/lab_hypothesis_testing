{
 "cells": [
  {
   "cell_type": "markdown",
   "metadata": {},
   "source": [
    "# Before you start:\n",
    "- Read the README.md file\n",
    "- Comment as much as you can and use the resources (README.md file)\n",
    "- Happy learning!"
   ]
  },
  {
   "cell_type": "code",
   "execution_count": 20,
   "metadata": {},
   "outputs": [],
   "source": [
    "# import numpy and pandas\n",
    "import pandas as pd \n",
    "import numpy as np\n",
    "from scipy.stats import ttest_1samp\n",
    "from scipy.stats import t, sem\n",
    "from statsmodels.stats.proportion import proportions_ztest\n"
   ]
  },
  {
   "cell_type": "markdown",
   "metadata": {},
   "source": [
    "# Challenge 1 - Exploring the Data\n",
    "\n",
    "In this challenge, we will examine all salaries of employees of the City of Chicago. We will start by loading the dataset and examining its contents. Please, load the data using Ironhack's database (db: employees, table: employees_advanced)."
   ]
  },
  {
   "cell_type": "code",
   "execution_count": 5,
   "metadata": {},
   "outputs": [
    {
     "data": {
      "text/html": [
       "<div>\n",
       "<style scoped>\n",
       "    .dataframe tbody tr th:only-of-type {\n",
       "        vertical-align: middle;\n",
       "    }\n",
       "\n",
       "    .dataframe tbody tr th {\n",
       "        vertical-align: top;\n",
       "    }\n",
       "\n",
       "    .dataframe thead th {\n",
       "        text-align: right;\n",
       "    }\n",
       "</style>\n",
       "<table border=\"1\" class=\"dataframe\">\n",
       "  <thead>\n",
       "    <tr style=\"text-align: right;\">\n",
       "      <th></th>\n",
       "      <th>Name</th>\n",
       "      <th>Job Titles</th>\n",
       "      <th>Department</th>\n",
       "      <th>Full or Part-Time</th>\n",
       "      <th>Salary or Hourly</th>\n",
       "      <th>Typical Hours</th>\n",
       "      <th>Annual Salary</th>\n",
       "      <th>Hourly Rate</th>\n",
       "    </tr>\n",
       "  </thead>\n",
       "  <tbody>\n",
       "    <tr>\n",
       "      <th>0</th>\n",
       "      <td>AARON,  JEFFERY M</td>\n",
       "      <td>SERGEANT</td>\n",
       "      <td>POLICE</td>\n",
       "      <td>F</td>\n",
       "      <td>Salary</td>\n",
       "      <td>NaN</td>\n",
       "      <td>101442.0</td>\n",
       "      <td>NaN</td>\n",
       "    </tr>\n",
       "    <tr>\n",
       "      <th>1</th>\n",
       "      <td>AARON,  KARINA</td>\n",
       "      <td>POLICE OFFICER (ASSIGNED AS DETECTIVE)</td>\n",
       "      <td>POLICE</td>\n",
       "      <td>F</td>\n",
       "      <td>Salary</td>\n",
       "      <td>NaN</td>\n",
       "      <td>94122.0</td>\n",
       "      <td>NaN</td>\n",
       "    </tr>\n",
       "    <tr>\n",
       "      <th>2</th>\n",
       "      <td>AARON,  KIMBERLEI R</td>\n",
       "      <td>CHIEF CONTRACT EXPEDITER</td>\n",
       "      <td>GENERAL SERVICES</td>\n",
       "      <td>F</td>\n",
       "      <td>Salary</td>\n",
       "      <td>NaN</td>\n",
       "      <td>101592.0</td>\n",
       "      <td>NaN</td>\n",
       "    </tr>\n",
       "    <tr>\n",
       "      <th>3</th>\n",
       "      <td>ABAD JR,  VICENTE M</td>\n",
       "      <td>CIVIL ENGINEER IV</td>\n",
       "      <td>WATER MGMNT</td>\n",
       "      <td>F</td>\n",
       "      <td>Salary</td>\n",
       "      <td>NaN</td>\n",
       "      <td>110064.0</td>\n",
       "      <td>NaN</td>\n",
       "    </tr>\n",
       "    <tr>\n",
       "      <th>4</th>\n",
       "      <td>ABASCAL,  REECE E</td>\n",
       "      <td>TRAFFIC CONTROL AIDE-HOURLY</td>\n",
       "      <td>OEMC</td>\n",
       "      <td>P</td>\n",
       "      <td>Hourly</td>\n",
       "      <td>20.0</td>\n",
       "      <td>NaN</td>\n",
       "      <td>19.86</td>\n",
       "    </tr>\n",
       "  </tbody>\n",
       "</table>\n",
       "</div>"
      ],
      "text/plain": [
       "                  Name                              Job Titles  \\\n",
       "0    AARON,  JEFFERY M                                SERGEANT   \n",
       "1      AARON,  KARINA   POLICE OFFICER (ASSIGNED AS DETECTIVE)   \n",
       "2  AARON,  KIMBERLEI R                CHIEF CONTRACT EXPEDITER   \n",
       "3  ABAD JR,  VICENTE M                       CIVIL ENGINEER IV   \n",
       "4    ABASCAL,  REECE E             TRAFFIC CONTROL AIDE-HOURLY   \n",
       "\n",
       "         Department Full or Part-Time Salary or Hourly  Typical Hours  \\\n",
       "0            POLICE                 F           Salary            NaN   \n",
       "1            POLICE                 F           Salary            NaN   \n",
       "2  GENERAL SERVICES                 F           Salary            NaN   \n",
       "3       WATER MGMNT                 F           Salary            NaN   \n",
       "4              OEMC                 P           Hourly           20.0   \n",
       "\n",
       "   Annual Salary  Hourly Rate  \n",
       "0       101442.0          NaN  \n",
       "1        94122.0          NaN  \n",
       "2       101592.0          NaN  \n",
       "3       110064.0          NaN  \n",
       "4            NaN        19.86  "
      ]
     },
     "execution_count": 5,
     "metadata": {},
     "output_type": "execute_result"
    }
   ],
   "source": [
    "# Your code here:\n",
    "employees = pd.read_csv('../data/Current_Employee_Names__Salaries__and_Position_Titles.csv')\n",
    "\n"
   ]
  },
  {
   "cell_type": "markdown",
   "metadata": {},
   "source": [
    "Examine the `salaries` dataset using the `head` function below."
   ]
  },
  {
   "cell_type": "code",
   "execution_count": 6,
   "metadata": {},
   "outputs": [
    {
     "data": {
      "text/html": [
       "<div>\n",
       "<style scoped>\n",
       "    .dataframe tbody tr th:only-of-type {\n",
       "        vertical-align: middle;\n",
       "    }\n",
       "\n",
       "    .dataframe tbody tr th {\n",
       "        vertical-align: top;\n",
       "    }\n",
       "\n",
       "    .dataframe thead th {\n",
       "        text-align: right;\n",
       "    }\n",
       "</style>\n",
       "<table border=\"1\" class=\"dataframe\">\n",
       "  <thead>\n",
       "    <tr style=\"text-align: right;\">\n",
       "      <th></th>\n",
       "      <th>Name</th>\n",
       "      <th>Job Titles</th>\n",
       "      <th>Department</th>\n",
       "      <th>Full or Part-Time</th>\n",
       "      <th>Salary or Hourly</th>\n",
       "      <th>Typical Hours</th>\n",
       "      <th>Annual Salary</th>\n",
       "      <th>Hourly Rate</th>\n",
       "    </tr>\n",
       "  </thead>\n",
       "  <tbody>\n",
       "    <tr>\n",
       "      <th>0</th>\n",
       "      <td>AARON,  JEFFERY M</td>\n",
       "      <td>SERGEANT</td>\n",
       "      <td>POLICE</td>\n",
       "      <td>F</td>\n",
       "      <td>Salary</td>\n",
       "      <td>NaN</td>\n",
       "      <td>101442.0</td>\n",
       "      <td>NaN</td>\n",
       "    </tr>\n",
       "    <tr>\n",
       "      <th>1</th>\n",
       "      <td>AARON,  KARINA</td>\n",
       "      <td>POLICE OFFICER (ASSIGNED AS DETECTIVE)</td>\n",
       "      <td>POLICE</td>\n",
       "      <td>F</td>\n",
       "      <td>Salary</td>\n",
       "      <td>NaN</td>\n",
       "      <td>94122.0</td>\n",
       "      <td>NaN</td>\n",
       "    </tr>\n",
       "    <tr>\n",
       "      <th>2</th>\n",
       "      <td>AARON,  KIMBERLEI R</td>\n",
       "      <td>CHIEF CONTRACT EXPEDITER</td>\n",
       "      <td>GENERAL SERVICES</td>\n",
       "      <td>F</td>\n",
       "      <td>Salary</td>\n",
       "      <td>NaN</td>\n",
       "      <td>101592.0</td>\n",
       "      <td>NaN</td>\n",
       "    </tr>\n",
       "    <tr>\n",
       "      <th>3</th>\n",
       "      <td>ABAD JR,  VICENTE M</td>\n",
       "      <td>CIVIL ENGINEER IV</td>\n",
       "      <td>WATER MGMNT</td>\n",
       "      <td>F</td>\n",
       "      <td>Salary</td>\n",
       "      <td>NaN</td>\n",
       "      <td>110064.0</td>\n",
       "      <td>NaN</td>\n",
       "    </tr>\n",
       "    <tr>\n",
       "      <th>4</th>\n",
       "      <td>ABASCAL,  REECE E</td>\n",
       "      <td>TRAFFIC CONTROL AIDE-HOURLY</td>\n",
       "      <td>OEMC</td>\n",
       "      <td>P</td>\n",
       "      <td>Hourly</td>\n",
       "      <td>20.0</td>\n",
       "      <td>NaN</td>\n",
       "      <td>19.86</td>\n",
       "    </tr>\n",
       "  </tbody>\n",
       "</table>\n",
       "</div>"
      ],
      "text/plain": [
       "                  Name                              Job Titles  \\\n",
       "0    AARON,  JEFFERY M                                SERGEANT   \n",
       "1      AARON,  KARINA   POLICE OFFICER (ASSIGNED AS DETECTIVE)   \n",
       "2  AARON,  KIMBERLEI R                CHIEF CONTRACT EXPEDITER   \n",
       "3  ABAD JR,  VICENTE M                       CIVIL ENGINEER IV   \n",
       "4    ABASCAL,  REECE E             TRAFFIC CONTROL AIDE-HOURLY   \n",
       "\n",
       "         Department Full or Part-Time Salary or Hourly  Typical Hours  \\\n",
       "0            POLICE                 F           Salary            NaN   \n",
       "1            POLICE                 F           Salary            NaN   \n",
       "2  GENERAL SERVICES                 F           Salary            NaN   \n",
       "3       WATER MGMNT                 F           Salary            NaN   \n",
       "4              OEMC                 P           Hourly           20.0   \n",
       "\n",
       "   Annual Salary  Hourly Rate  \n",
       "0       101442.0          NaN  \n",
       "1        94122.0          NaN  \n",
       "2       101592.0          NaN  \n",
       "3       110064.0          NaN  \n",
       "4            NaN        19.86  "
      ]
     },
     "execution_count": 6,
     "metadata": {},
     "output_type": "execute_result"
    }
   ],
   "source": [
    "# Your code here:\n",
    "employees.head()\n"
   ]
  },
  {
   "cell_type": "markdown",
   "metadata": {},
   "source": [
    "We see from looking at the `head` function that there is quite a bit of missing data. Let's examine how much missing data is in each column. Produce this output in the cell below"
   ]
  },
  {
   "cell_type": "code",
   "execution_count": 7,
   "metadata": {},
   "outputs": [
    {
     "data": {
      "text/plain": [
       "Name                     0\n",
       "Job Titles               0\n",
       "Department               0\n",
       "Full or Part-Time        0\n",
       "Salary or Hourly         0\n",
       "Typical Hours        25161\n",
       "Annual Salary         8022\n",
       "Hourly Rate          25161\n",
       "dtype: int64"
      ]
     },
     "execution_count": 7,
     "metadata": {},
     "output_type": "execute_result"
    }
   ],
   "source": [
    "# Your code here:\n",
    "employees.isnull().sum()"
   ]
  },
  {
   "cell_type": "markdown",
   "metadata": {},
   "source": [
    "Let's also look at the count of hourly vs. salaried employees. Write the code in the cell below"
   ]
  },
  {
   "cell_type": "code",
   "execution_count": 8,
   "metadata": {},
   "outputs": [
    {
     "data": {
      "text/plain": [
       "Salary or Hourly\n",
       "Salary    25161\n",
       "Hourly     8022\n",
       "Name: count, dtype: int64"
      ]
     },
     "execution_count": 8,
     "metadata": {},
     "output_type": "execute_result"
    }
   ],
   "source": [
    "# Your code here:\n",
    "employees['Salary or Hourly'].value_counts()"
   ]
  },
  {
   "cell_type": "markdown",
   "metadata": {},
   "source": [
    "What this information indicates is that the table contains information about two types of employees - salaried and hourly. Some columns apply only to one type of employee while other columns only apply to another kind. This is why there are so many missing values. Therefore, we will not do anything to handle the missing values."
   ]
  },
  {
   "cell_type": "markdown",
   "metadata": {},
   "source": [
    "There are different departments in the city. List all departments and the count of employees in each department."
   ]
  },
  {
   "cell_type": "code",
   "execution_count": 9,
   "metadata": {},
   "outputs": [
    {
     "data": {
      "text/plain": [
       "Department\n",
       "POLICE                   13414\n",
       "FIRE                      4641\n",
       "STREETS & SAN             2198\n",
       "OEMC                      2102\n",
       "WATER MGMNT               1879\n",
       "AVIATION                  1629\n",
       "TRANSPORTN                1140\n",
       "PUBLIC LIBRARY            1015\n",
       "GENERAL SERVICES           980\n",
       "FAMILY & SUPPORT           615\n",
       "FINANCE                    560\n",
       "HEALTH                     488\n",
       "CITY COUNCIL               411\n",
       "LAW                        407\n",
       "BUILDINGS                  269\n",
       "COMMUNITY DEVELOPMENT      207\n",
       "BUSINESS AFFAIRS           171\n",
       "COPA                       116\n",
       "BOARD OF ELECTION          107\n",
       "DoIT                        99\n",
       "PROCUREMENT                 92\n",
       "INSPECTOR GEN               87\n",
       "MAYOR'S OFFICE              85\n",
       "CITY CLERK                  84\n",
       "ANIMAL CONTRL               81\n",
       "HUMAN RESOURCES             79\n",
       "CULTURAL AFFAIRS            65\n",
       "BUDGET & MGMT               46\n",
       "ADMIN HEARNG                39\n",
       "DISABILITIES                28\n",
       "TREASURER                   22\n",
       "HUMAN RELATIONS             16\n",
       "BOARD OF ETHICS              8\n",
       "POLICE BOARD                 2\n",
       "LICENSE APPL COMM            1\n",
       "Name: count, dtype: int64"
      ]
     },
     "execution_count": 9,
     "metadata": {},
     "output_type": "execute_result"
    }
   ],
   "source": [
    "# Your code here:\n",
    "employees['Department'].value_counts()\n"
   ]
  },
  {
   "cell_type": "markdown",
   "metadata": {},
   "source": [
    "# Challenge 2 - Hypothesis Tests\n",
    "\n",
    "In this section of the lab, we will test whether the hourly wage of all hourly workers is significantly different from $30/hr. Import the correct one sample test function from scipy and perform the hypothesis test for a 95% two sided confidence interval."
   ]
  },
  {
   "cell_type": "code",
   "execution_count": 12,
   "metadata": {},
   "outputs": [
    {
     "name": "stdout",
     "output_type": "stream",
     "text": [
      "T-statistic: 20.6198057854942\n",
      "P-value: 4.3230240486229894e-92\n",
      "Rechazamos la hipótesis nula: el salario por hora es significativamente diferente de $30/hora\n"
     ]
    }
   ],
   "source": [
    "# Your code here:\n",
    "hourly_employees = employees[employees['Salary or Hourly'] == 'Hourly']\n",
    "\n",
    "# Extraer las tasas por hora\n",
    "hourly_rates = hourly_employees['Hourly Rate'].dropna()\n",
    "\n",
    "# Realizar la prueba t para una muestra\n",
    "t_stat, p_value = ttest_1samp(hourly_rates, 30)\n",
    "\n",
    "# Resultados\n",
    "print(\"T-statistic:\", t_stat)\n",
    "print(\"P-value:\", p_value)\n",
    "\n",
    "# Interpretación de los resultados\n",
    "alpha = 0.05\n",
    "if p_value < alpha:\n",
    "    print(\"Rechazamos la hipótesis nula: el salario por hora es significativamente diferente de $30/hora\")\n",
    "else:\n",
    "    print(\"No podemos rechazar la hipótesis nula: no hay suficiente evidencia para decir que el salario por hora es significativamente diferente de $30/hora\")\n"
   ]
  },
  {
   "cell_type": "markdown",
   "metadata": {},
   "source": [
    "We are also curious about salaries in the police force. The chief of police in Chicago claimed in a press briefing that salaries this year are higher than last year's mean of $86000/year a year for all salaried employees. Test this one sided hypothesis using a 95% confidence interval.\n",
    "\n",
    "Hint: A one tailed test has a p-value that is half of the two tailed p-value. If our hypothesis is greater than, then to reject, the test statistic must also be positive."
   ]
  },
  {
   "cell_type": "code",
   "execution_count": 13,
   "metadata": {},
   "outputs": [
    {
     "name": "stdout",
     "output_type": "stream",
     "text": [
      "T-statistic: 3.081997005712994\n",
      "Two-tailed P-value: 0.0020603403550965137\n",
      "One-tailed P-value: 0.0010301701775482569\n",
      "Rechazamos la hipótesis nula: los salarios este año son significativamente mayores que $86,000/año\n"
     ]
    }
   ],
   "source": [
    "# Your code here:\n",
    "# Filtrar a los empleados del departamento de policía que tienen salario anual\n",
    "police_salaries = employees[(employees['Department'] == 'POLICE') & \n",
    "                               (employees['Salary or Hourly'] == 'Salary')]['Annual Salary'].dropna()\n",
    "\n",
    "# Realizar la prueba t para una muestra\n",
    "t_stat, p_value_two_tailed = ttest_1samp(police_salaries, 86000)\n",
    "\n",
    "# Para una prueba de una cola, dividimos el p-valor por 2\n",
    "p_value_one_tailed = p_value_two_tailed / 2\n",
    "\n",
    "# Resultados\n",
    "print(\"T-statistic:\", t_stat)\n",
    "print(\"Two-tailed P-value:\", p_value_two_tailed)\n",
    "print(\"One-tailed P-value:\", p_value_one_tailed)\n",
    "\n",
    "# Interpretación de los resultados para una prueba de una cola\n",
    "alpha = 0.05\n",
    "if t_stat > 0 and p_value_one_tailed < alpha:\n",
    "    print(\"Rechazamos la hipótesis nula: los salarios este año son significativamente mayores que $86,000/año\")\n",
    "else:\n",
    "    print(\"No podemos rechazar la hipótesis nula: no hay suficiente evidencia para decir que los salarios este año son significativamente mayores que $86,000/año\")\n"
   ]
  },
  {
   "cell_type": "markdown",
   "metadata": {},
   "source": [
    "Using the `crosstab` function, find the department that has the most hourly workers. "
   ]
  },
  {
   "cell_type": "code",
   "execution_count": 14,
   "metadata": {},
   "outputs": [
    {
     "name": "stdout",
     "output_type": "stream",
     "text": [
      "Tabla cruzada de trabajadores por departamento y tipo de pago:\n",
      "Salary or Hourly       Hourly  Salary\n",
      "Department                           \n",
      "ADMIN HEARNG                0      39\n",
      "ANIMAL CONTRL              19      62\n",
      "AVIATION                 1082     547\n",
      "BOARD OF ELECTION           0     107\n",
      "BOARD OF ETHICS             0       8\n",
      "BUDGET & MGMT               2      44\n",
      "BUILDINGS                   0     269\n",
      "BUSINESS AFFAIRS            7     164\n",
      "CITY CLERK                  0      84\n",
      "CITY COUNCIL               64     347\n",
      "COMMUNITY DEVELOPMENT       4     203\n",
      "COPA                        0     116\n",
      "CULTURAL AFFAIRS            7      58\n",
      "DISABILITIES                0      28\n",
      "DoIT                        0      99\n",
      "FAMILY & SUPPORT          287     328\n",
      "FINANCE                    44     516\n",
      "FIRE                        2    4639\n",
      "GENERAL SERVICES          765     215\n",
      "HEALTH                      3     485\n",
      "HUMAN RELATIONS             0      16\n",
      "HUMAN RESOURCES             4      75\n",
      "INSPECTOR GEN               0      87\n",
      "LAW                        40     367\n",
      "LICENSE APPL COMM           0       1\n",
      "MAYOR'S OFFICE              8      77\n",
      "OEMC                     1273     829\n",
      "POLICE                     10   13404\n",
      "POLICE BOARD                0       2\n",
      "PROCUREMENT                 2      90\n",
      "PUBLIC LIBRARY            299     716\n",
      "STREETS & SAN            1862     336\n",
      "TRANSPORTN                725     415\n",
      "TREASURER                   0      22\n",
      "WATER MGMNT              1513     366\n",
      "\n",
      "El departamento con más trabajadores por hora es: STREETS & SAN\n",
      "Cantidad de trabajadores por hora en ese departamento: 1862\n"
     ]
    }
   ],
   "source": [
    "# Your code here:\n",
    "# Crear una tabla cruzada para contar la cantidad de trabajadores por departamento y tipo de pago\n",
    "crosstab = pd.crosstab(employees['Department'], employees['Salary or Hourly'])\n",
    "\n",
    "# Mostrar la tabla cruzada\n",
    "print(\"Tabla cruzada de trabajadores por departamento y tipo de pago:\")\n",
    "print(crosstab)\n",
    "\n",
    "# Encontrar el departamento con más trabajadores por hora\n",
    "most_hourly_workers_department = crosstab['Hourly'].idxmax()\n",
    "most_hourly_workers_count = crosstab['Hourly'].max()\n",
    "\n",
    "print(f\"\\nEl departamento con más trabajadores por hora es: {most_hourly_workers_department}\")\n",
    "print(f\"Cantidad de trabajadores por hora en ese departamento: {most_hourly_workers_count}\")\n"
   ]
  },
  {
   "cell_type": "markdown",
   "metadata": {},
   "source": [
    "The workers from the department with the most hourly workers have complained that their hourly wage is less than $35/hour. Using a one sample t-test, test this one-sided hypothesis at the 95% confidence level."
   ]
  },
  {
   "cell_type": "code",
   "execution_count": 15,
   "metadata": {},
   "outputs": [
    {
     "name": "stdout",
     "output_type": "stream",
     "text": [
      "T-statistic: -9.567447887848152\n",
      "Two-tailed P-value: 3.3378530564707717e-21\n",
      "One-tailed P-value: 1.6689265282353859e-21\n",
      "Rechazamos la hipótesis nula: el salario por hora en el departamento de STREETS & SAN es significativamente menor que $35/hora\n"
     ]
    }
   ],
   "source": [
    "# Your code here:\n",
    "# Crear una tabla cruzada para contar la cantidad de trabajadores por departamento y tipo de pago\n",
    "crosstab = pd.crosstab(employees['Department'], employees['Salary or Hourly'])\n",
    "\n",
    "# Encontrar el departamento con más trabajadores por hora\n",
    "most_hourly_workers_department = crosstab['Hourly'].idxmax()\n",
    "\n",
    "# Filtrar los datos para obtener los salarios por hora de ese departamento\n",
    "hourly_wages_department = employees[(employees['Department'] == most_hourly_workers_department) & \n",
    "                                       (employees['Salary or Hourly'] == 'Hourly')]['Hourly Rate'].dropna()\n",
    "\n",
    "# Realizar la prueba t para una muestra con una cola (prueba de una cola)\n",
    "t_stat, p_value_two_tailed = ttest_1samp(hourly_wages_department, 35)\n",
    "\n",
    "# Para una prueba de una cola, dividimos el p-valor por 2\n",
    "p_value_one_tailed = p_value_two_tailed / 2\n",
    "\n",
    "# Resultados\n",
    "print(\"T-statistic:\", t_stat)\n",
    "print(\"Two-tailed P-value:\", p_value_two_tailed)\n",
    "print(\"One-tailed P-value:\", p_value_one_tailed)\n",
    "\n",
    "# Interpretación de los resultados para una prueba de una cola\n",
    "alpha = 0.05\n",
    "if t_stat < 0 and p_value_one_tailed < alpha:\n",
    "    print(f\"Rechazamos la hipótesis nula: el salario por hora en el departamento de {most_hourly_workers_department} es significativamente menor que $35/hora\")\n",
    "else:\n",
    "    print(f\"No podemos rechazar la hipótesis nula: no hay suficiente evidencia para decir que el salario por hora en el departamento de {most_hourly_workers_department} es significativamente menor que $35/hora\")\n",
    "\n"
   ]
  },
  {
   "cell_type": "markdown",
   "metadata": {},
   "source": [
    "# Challenge 3: To practice - Constructing Confidence Intervals\n",
    "\n",
    "While testing our hypothesis is a great way to gather empirical evidence for accepting or rejecting the hypothesis, another way to gather evidence is by creating a confidence interval. A confidence interval gives us information about the true mean of the population. So for a 95% confidence interval, we are 95% sure that the mean of the population is within the confidence interval. \n",
    ").\n",
    "\n",
    "To read more about confidence intervals, click [here](https://en.wikipedia.org/wiki/Confidence_interval).\n",
    "\n",
    "\n",
    "In the cell below, we will construct a 95% confidence interval for the mean hourly wage of all hourly workers. \n",
    "\n",
    "The confidence interval is computed in SciPy using the `t.interval` function. You can read more about this function [here](https://docs.scipy.org/doc/scipy-0.14.0/reference/generated/scipy.stats.t.html).\n",
    "\n",
    "To compute the confidence interval of the hourly wage, use the 0.95 for the confidence level, number of rows - 1 for degrees of freedom, the mean of the sample for the location parameter and the standard error for the scale. The standard error can be computed using [this](https://docs.scipy.org/doc/scipy/reference/generated/scipy.stats.sem.html) function in SciPy."
   ]
  },
  {
   "cell_type": "code",
   "execution_count": 18,
   "metadata": {},
   "outputs": [
    {
     "name": "stdout",
     "output_type": "stream",
     "text": [
      "Intervalo de confianza del 95% para el salario por hora: (32.52345834488425, 33.05365708767623)\n"
     ]
    }
   ],
   "source": [
    "# Your code here:\n",
    "# Filtrar a los empleados que son pagados por hora\n",
    "hourly_employees = employees[employees['Salary or Hourly'] == 'Hourly']\n",
    "\n",
    "# Extraer las tasas por hora\n",
    "hourly_rates = hourly_employees['Hourly Rate'].dropna()\n",
    "\n",
    "# Calcular la media de los salarios por hora\n",
    "mean_hourly_rate = hourly_rates.mean()\n",
    "\n",
    "# Calcular el error estándar de los salarios por hora\n",
    "std_error = sem(hourly_rates)\n",
    "\n",
    "# Calcular el intervalo de confianza del 95%\n",
    "confidence_level = 0.95\n",
    "degrees_of_freedom = len(hourly_rates) - 1\n",
    "confidence_interval = t.interval(confidence_level, degrees_of_freedom, loc=mean_hourly_rate, scale=std_error)\n",
    "\n",
    "print(f\"Intervalo de confianza del 95% para el salario por hora: {confidence_interval}\")\n"
   ]
  },
  {
   "cell_type": "markdown",
   "metadata": {},
   "source": [
    "Now construct the 95% confidence interval for all salaried employeed in the police in the cell below."
   ]
  },
  {
   "cell_type": "code",
   "execution_count": 19,
   "metadata": {},
   "outputs": [
    {
     "name": "stdout",
     "output_type": "stream",
     "text": [
      "Intervalo de confianza del 95% para el salario anual de empleados asalariados en el departamento de policía: (86177.05631531784, 86795.77269094894)\n"
     ]
    }
   ],
   "source": [
    "# Your code here:\n",
    "# Filtrar a los empleados asalariados del departamento de policía\n",
    "salaried_police_employees = employees[(employees['Department'] == 'POLICE') & \n",
    "                                         (employees['Salary or Hourly'] == 'Salary')]\n",
    "\n",
    "# Extraer los salarios anuales\n",
    "annual_salaries = salaried_police_employees['Annual Salary'].dropna()\n",
    "\n",
    "# Calcular la media de los salarios anuales\n",
    "mean_annual_salary = annual_salaries.mean()\n",
    "\n",
    "# Calcular el error estándar de los salarios anuales\n",
    "std_error = sem(annual_salaries)\n",
    "\n",
    "# Calcular el intervalo de confianza del 95%\n",
    "confidence_level = 0.95\n",
    "degrees_of_freedom = len(annual_salaries) - 1\n",
    "confidence_interval = t.interval(confidence_level, degrees_of_freedom, loc=mean_annual_salary, scale=std_error)\n",
    "\n",
    "print(f\"Intervalo de confianza del 95% para el salario anual de empleados asalariados en el departamento de policía: {confidence_interval}\")\n"
   ]
  },
  {
   "cell_type": "markdown",
   "metadata": {},
   "source": [
    "# Bonus Challenge - Hypothesis Tests of Proportions\n",
    "\n",
    "Another type of one sample test is a hypothesis test of proportions. In this test, we examine whether the proportion of a group in our sample is significantly different than a fraction. \n",
    "\n",
    "You can read more about one sample proportion tests [here](http://sphweb.bumc.bu.edu/otlt/MPH-Modules/BS/SAS/SAS6-CategoricalData/SAS6-CategoricalData2.html).\n",
    "\n",
    "In the cell below, use the `proportions_ztest` function from `statsmodels` to perform a hypothesis test that will determine whether the number of hourly workers in the City of Chicago is significantly different from 25% at the 95% confidence level."
   ]
  },
  {
   "cell_type": "code",
   "execution_count": 22,
   "metadata": {},
   "outputs": [
    {
     "name": "stdout",
     "output_type": "stream",
     "text": [
      "Proporción de trabajadores por hora: 0.2418\n",
      "Estadístico z: -3.5100\n",
      "P-valor: 0.0004\n",
      "Rechazamos la hipótesis nula: la proporción de trabajadores por hora es significativamente diferente de 25%\n"
     ]
    }
   ],
   "source": [
    "# Your code here:\n",
    "# Contar el número de trabajadores por hora\n",
    "hourly_workers_count = employees[employees['Salary or Hourly'] == 'Hourly'].shape[0]\n",
    "\n",
    "# Contar el número total de trabajadores\n",
    "total_workers_count = employees.shape[0]\n",
    "\n",
    "# Calcular la proporción de trabajadores por hora\n",
    "proportion_hourly_workers = hourly_workers_count / total_workers_count\n",
    "\n",
    "# Definir la proporción esperada (25%)\n",
    "expected_proportion = 0.25\n",
    "\n",
    "# Realizar la prueba de proporciones z-test\n",
    "count = hourly_workers_count\n",
    "nobs = total_workers_count\n",
    "stat, p_value = proportions_ztest(count, nobs, value=expected_proportion)\n",
    "\n",
    "# Resultados\n",
    "print(f\"Proporción de trabajadores por hora: {proportion_hourly_workers:.4f}\")\n",
    "print(f\"Estadístico z: {stat:.4f}\")\n",
    "print(f\"P-valor: {p_value:.4f}\")\n",
    "\n",
    "# Interpretación de los resultados\n",
    "alpha = 0.05\n",
    "if p_value < alpha:\n",
    "    print(\"Rechazamos la hipótesis nula: la proporción de trabajadores por hora es significativamente diferente de 25%\")\n",
    "else:\n",
    "    print(\"No podemos rechazar la hipótesis nula: no hay suficiente evidencia para decir que la proporción de trabajadores por hora es significativamente diferente de 25%\")\n"
   ]
  }
 ],
 "metadata": {
  "kernelspec": {
   "display_name": "Python 3",
   "language": "python",
   "name": "python3"
  },
  "language_info": {
   "codemirror_mode": {
    "name": "ipython",
    "version": 3
   },
   "file_extension": ".py",
   "mimetype": "text/x-python",
   "name": "python",
   "nbconvert_exporter": "python",
   "pygments_lexer": "ipython3",
   "version": "3.11.0"
  }
 },
 "nbformat": 4,
 "nbformat_minor": 2
}
