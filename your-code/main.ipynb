{
 "cells": [
  {
   "cell_type": "markdown",
   "metadata": {},
   "source": [
    "# Before you start:\n",
    "- Read the README.md file\n",
    "- Comment as much as you can and use the resources (README.md file)\n",
    "- Happy learning!"
   ]
  },
  {
   "cell_type": "code",
   "execution_count": 23,
   "metadata": {},
   "outputs": [],
   "source": [
    "import pandas as pd\n",
    "import numpy as np\n",
    "from scipy.stats import ttest_1samp\n",
    "from scipy.stats import sem\n",
    "from scipy.stats import t"
   ]
  },
  {
   "cell_type": "markdown",
   "metadata": {},
   "source": [
    "# Challenge 1 - Exploring the Data\n",
    "\n",
    "In this challenge, we will examine all salaries of employees of the City of Chicago. We will start by loading the dataset and examining its contents. Please, load the data using Ironhack's database (db: employees, table: employees_advanced)."
   ]
  },
  {
   "cell_type": "code",
   "execution_count": 2,
   "metadata": {},
   "outputs": [],
   "source": [
    "empleados = pd.read_csv(r\"C:\\Users\\hp\\Documents\\M2\\lab_hypothesis_testing-main\\lab_hypothesis_testing-main\\data\\Current_Employee_Names__Salaries__and_Position_Titles.csv\")\n"
   ]
  },
  {
   "cell_type": "markdown",
   "metadata": {},
   "source": [
    "Examine the `salaries` dataset using the `head` function below."
   ]
  },
  {
   "cell_type": "code",
   "execution_count": 3,
   "metadata": {},
   "outputs": [
    {
     "data": {
      "text/html": [
       "<div>\n",
       "<style scoped>\n",
       "    .dataframe tbody tr th:only-of-type {\n",
       "        vertical-align: middle;\n",
       "    }\n",
       "\n",
       "    .dataframe tbody tr th {\n",
       "        vertical-align: top;\n",
       "    }\n",
       "\n",
       "    .dataframe thead th {\n",
       "        text-align: right;\n",
       "    }\n",
       "</style>\n",
       "<table border=\"1\" class=\"dataframe\">\n",
       "  <thead>\n",
       "    <tr style=\"text-align: right;\">\n",
       "      <th></th>\n",
       "      <th>Name</th>\n",
       "      <th>Job Titles</th>\n",
       "      <th>Department</th>\n",
       "      <th>Full or Part-Time</th>\n",
       "      <th>Salary or Hourly</th>\n",
       "      <th>Typical Hours</th>\n",
       "      <th>Annual Salary</th>\n",
       "      <th>Hourly Rate</th>\n",
       "    </tr>\n",
       "  </thead>\n",
       "  <tbody>\n",
       "    <tr>\n",
       "      <th>0</th>\n",
       "      <td>AARON,  JEFFERY M</td>\n",
       "      <td>SERGEANT</td>\n",
       "      <td>POLICE</td>\n",
       "      <td>F</td>\n",
       "      <td>Salary</td>\n",
       "      <td>NaN</td>\n",
       "      <td>101442.0</td>\n",
       "      <td>NaN</td>\n",
       "    </tr>\n",
       "    <tr>\n",
       "      <th>1</th>\n",
       "      <td>AARON,  KARINA</td>\n",
       "      <td>POLICE OFFICER (ASSIGNED AS DETECTIVE)</td>\n",
       "      <td>POLICE</td>\n",
       "      <td>F</td>\n",
       "      <td>Salary</td>\n",
       "      <td>NaN</td>\n",
       "      <td>94122.0</td>\n",
       "      <td>NaN</td>\n",
       "    </tr>\n",
       "    <tr>\n",
       "      <th>2</th>\n",
       "      <td>AARON,  KIMBERLEI R</td>\n",
       "      <td>CHIEF CONTRACT EXPEDITER</td>\n",
       "      <td>GENERAL SERVICES</td>\n",
       "      <td>F</td>\n",
       "      <td>Salary</td>\n",
       "      <td>NaN</td>\n",
       "      <td>101592.0</td>\n",
       "      <td>NaN</td>\n",
       "    </tr>\n",
       "    <tr>\n",
       "      <th>3</th>\n",
       "      <td>ABAD JR,  VICENTE M</td>\n",
       "      <td>CIVIL ENGINEER IV</td>\n",
       "      <td>WATER MGMNT</td>\n",
       "      <td>F</td>\n",
       "      <td>Salary</td>\n",
       "      <td>NaN</td>\n",
       "      <td>110064.0</td>\n",
       "      <td>NaN</td>\n",
       "    </tr>\n",
       "    <tr>\n",
       "      <th>4</th>\n",
       "      <td>ABASCAL,  REECE E</td>\n",
       "      <td>TRAFFIC CONTROL AIDE-HOURLY</td>\n",
       "      <td>OEMC</td>\n",
       "      <td>P</td>\n",
       "      <td>Hourly</td>\n",
       "      <td>20.0</td>\n",
       "      <td>NaN</td>\n",
       "      <td>19.86</td>\n",
       "    </tr>\n",
       "  </tbody>\n",
       "</table>\n",
       "</div>"
      ],
      "text/plain": [
       "                  Name                              Job Titles  \\\n",
       "0    AARON,  JEFFERY M                                SERGEANT   \n",
       "1      AARON,  KARINA   POLICE OFFICER (ASSIGNED AS DETECTIVE)   \n",
       "2  AARON,  KIMBERLEI R                CHIEF CONTRACT EXPEDITER   \n",
       "3  ABAD JR,  VICENTE M                       CIVIL ENGINEER IV   \n",
       "4    ABASCAL,  REECE E             TRAFFIC CONTROL AIDE-HOURLY   \n",
       "\n",
       "         Department Full or Part-Time Salary or Hourly  Typical Hours  \\\n",
       "0            POLICE                 F           Salary            NaN   \n",
       "1            POLICE                 F           Salary            NaN   \n",
       "2  GENERAL SERVICES                 F           Salary            NaN   \n",
       "3       WATER MGMNT                 F           Salary            NaN   \n",
       "4              OEMC                 P           Hourly           20.0   \n",
       "\n",
       "   Annual Salary  Hourly Rate  \n",
       "0       101442.0          NaN  \n",
       "1        94122.0          NaN  \n",
       "2       101592.0          NaN  \n",
       "3       110064.0          NaN  \n",
       "4            NaN        19.86  "
      ]
     },
     "execution_count": 3,
     "metadata": {},
     "output_type": "execute_result"
    }
   ],
   "source": [
    "empleados.head()\n",
    "\n"
   ]
  },
  {
   "cell_type": "markdown",
   "metadata": {},
   "source": [
    "We see from looking at the `head` function that there is quite a bit of missing data. Let's examine how much missing data is in each column. Produce this output in the cell below"
   ]
  },
  {
   "cell_type": "code",
   "execution_count": 4,
   "metadata": {},
   "outputs": [
    {
     "name": "stdout",
     "output_type": "stream",
     "text": [
      "Name                     0\n",
      "Job Titles               0\n",
      "Department               0\n",
      "Full or Part-Time        0\n",
      "Salary or Hourly         0\n",
      "Typical Hours        25161\n",
      "Annual Salary         8022\n",
      "Hourly Rate          25161\n",
      "dtype: int64\n"
     ]
    }
   ],
   "source": [
    "missing_data = empleados.isnull().sum()\n",
    "\n",
    "\n",
    "print(missing_data)"
   ]
  },
  {
   "cell_type": "markdown",
   "metadata": {},
   "source": [
    "Let's also look at the count of hourly vs. salaried employees. Write the code in the cell below"
   ]
  },
  {
   "cell_type": "code",
   "execution_count": 5,
   "metadata": {},
   "outputs": [
    {
     "data": {
      "text/plain": [
       "Salary or Hourly\n",
       "Salary    25161\n",
       "Hourly     8022\n",
       "Name: count, dtype: int64"
      ]
     },
     "execution_count": 5,
     "metadata": {},
     "output_type": "execute_result"
    }
   ],
   "source": [
    "# Your code here:\n",
    "\n",
    "empleados_tipo_pago = empleados['Salary or Hourly'].value_counts()\n",
    "\n",
    "empleados_tipo_pago\n"
   ]
  },
  {
   "cell_type": "markdown",
   "metadata": {},
   "source": [
    "What this information indicates is that the table contains information about two types of employees - salaried and hourly. Some columns apply only to one type of employee while other columns only apply to another kind. This is why there are so many missing values. Therefore, we will not do anything to handle the missing values."
   ]
  },
  {
   "cell_type": "markdown",
   "metadata": {},
   "source": [
    "There are different departments in the city. List all departments and the count of employees in each department."
   ]
  },
  {
   "cell_type": "code",
   "execution_count": 6,
   "metadata": {},
   "outputs": [
    {
     "name": "stdout",
     "output_type": "stream",
     "text": [
      "Department\n",
      "POLICE                   13414\n",
      "FIRE                      4641\n",
      "STREETS & SAN             2198\n",
      "OEMC                      2102\n",
      "WATER MGMNT               1879\n",
      "AVIATION                  1629\n",
      "TRANSPORTN                1140\n",
      "PUBLIC LIBRARY            1015\n",
      "GENERAL SERVICES           980\n",
      "FAMILY & SUPPORT           615\n",
      "FINANCE                    560\n",
      "HEALTH                     488\n",
      "CITY COUNCIL               411\n",
      "LAW                        407\n",
      "BUILDINGS                  269\n",
      "COMMUNITY DEVELOPMENT      207\n",
      "BUSINESS AFFAIRS           171\n",
      "COPA                       116\n",
      "BOARD OF ELECTION          107\n",
      "DoIT                        99\n",
      "PROCUREMENT                 92\n",
      "INSPECTOR GEN               87\n",
      "MAYOR'S OFFICE              85\n",
      "CITY CLERK                  84\n",
      "ANIMAL CONTRL               81\n",
      "HUMAN RESOURCES             79\n",
      "CULTURAL AFFAIRS            65\n",
      "BUDGET & MGMT               46\n",
      "ADMIN HEARNG                39\n",
      "DISABILITIES                28\n",
      "TREASURER                   22\n",
      "HUMAN RELATIONS             16\n",
      "BOARD OF ETHICS              8\n",
      "POLICE BOARD                 2\n",
      "LICENSE APPL COMM            1\n",
      "Name: count, dtype: int64\n"
     ]
    }
   ],
   "source": [
    "\n",
    "empleados_por_departamento = empleados['Department'].value_counts()\n",
    "\n",
    "print(empleados_por_departamento)"
   ]
  },
  {
   "cell_type": "markdown",
   "metadata": {},
   "source": [
    "# Challenge 2 - Hypothesis Tests\n",
    "\n",
    "In this section of the lab, we will test whether the hourly wage of all hourly workers is significantly different from $30/hr. Import the correct one sample test function from scipy and perform the hypothesis test for a 95% two sided confidence interval."
   ]
  },
  {
   "cell_type": "code",
   "execution_count": 7,
   "metadata": {},
   "outputs": [
    {
     "name": "stdout",
     "output_type": "stream",
     "text": [
      "Estadístico t: 20.6198057854942\n",
      "Valor p: 4.3230240486229894e-92\n",
      "Rechazamos la hipótesis nula: el salario por hora es significativamente diferente de $30/hora\n"
     ]
    }
   ],
   "source": [
    "#Filtrar los Empleados por Hora:\n",
    "empleados_por_hora = empleados[empleados['Salary or Hourly'] == 'Hourly']\n",
    "\n",
    "#Obtener las Tarifas por Hora:\n",
    "tarifas_por_hora = empleados_por_hora['Hourly Rate'].dropna().astype(float)\n",
    "\n",
    "t_stat, p_value = ttest_1samp(tarifas_por_hora, 30)\n",
    "\n",
    "print(f\"Estadístico t: {t_stat}\")\n",
    "print(f\"Valor p: {p_value}\")\n",
    "\n",
    "\n",
    "alpha = 0.05\n",
    "if p_value < alpha:\n",
    "    print(\"Rechazamos la hipótesis nula: el salario por hora es significativamente diferente de $30/hora\")\n",
    "else:\n",
    "    print(\"No podemos rechazar la hipótesis nula: el salario por hora no es significativamente diferente de $30/hora\")\n"
   ]
  },
  {
   "cell_type": "markdown",
   "metadata": {},
   "source": [
    "We are also curious about salaries in the police force. The chief of police in Chicago claimed in a press briefing that salaries this year are higher than last year's mean of $86000/year a year for all salaried employees. Test this one sided hypothesis using a 95% confidence interval.\n",
    "\n",
    "Hint: A one tailed test has a p-value that is half of the two tailed p-value. If our hypothesis is greater than, then to reject, the test statistic must also be positive."
   ]
  },
  {
   "cell_type": "code",
   "execution_count": 14,
   "metadata": {},
   "outputs": [
    {
     "name": "stdout",
     "output_type": "stream",
     "text": [
      "Estadístico t: nan\n",
      "Valor p (unilateral): nan\n",
      "No podemos rechazar la hipótesis nula: los salarios de la policía de este año no son significativamente más altos que $86,000\n"
     ]
    },
    {
     "name": "stderr",
     "output_type": "stream",
     "text": [
      "C:\\Users\\hp\\anaconda3\\Lib\\site-packages\\numpy\\core\\fromnumeric.py:3464: RuntimeWarning: Mean of empty slice.\n",
      "  return _methods._mean(a, axis=axis, dtype=dtype,\n",
      "C:\\Users\\hp\\anaconda3\\Lib\\site-packages\\numpy\\core\\_methods.py:192: RuntimeWarning: invalid value encountered in scalar divide\n",
      "  ret = ret.dtype.type(ret / rcount)\n"
     ]
    }
   ],
   "source": [
    "# Filtrar los empleados asalariados del departamento de policía\n",
    "policia_asalariados = empleados[(empleados['Department'] == 'POLICÍA') & (empleados['Salary or Hourly'] == 'Salary')]\n",
    "\n",
    "# Obtener los salarios anuales y convertirlos a float\n",
    "salarios_anuales = policia_asalariados['Annual Salary'].dropna().astype(float)\n",
    "\n",
    "# Realizar la prueba t de una muestra\n",
    "media_anterior = 86000\n",
    "t_stat, p_value = ttest_1samp(salarios_anuales, media_anterior)\n",
    "\n",
    "# Ajustar el valor p para la prueba unilateral\n",
    "p_value_unilateral = p_value / 2\n",
    "\n",
    "# Mostrar los resultados\n",
    "print(f\"Estadístico t: {t_stat}\")\n",
    "print(f\"Valor p (unilateral): {p_value_unilateral}\")\n",
    "\n",
    "# Interpretación del resultado\n",
    "alpha = 0.05\n",
    "if p_value_unilateral < alpha and t_stat > 0:\n",
    "    print(\"Rechazamos la hipótesis nula: los salarios de la policía de este año son significativamente más altos que $86,000\")\n",
    "else:\n",
    "    print(\"No podemos rechazar la hipótesis nula: los salarios de la policía de este año no son significativamente más altos que $86,000\")"
   ]
  },
  {
   "cell_type": "markdown",
   "metadata": {},
   "source": [
    "Using the `crosstab` function, find the department that has the most hourly workers. "
   ]
  },
  {
   "cell_type": "code",
   "execution_count": 16,
   "metadata": {},
   "outputs": [
    {
     "name": "stdout",
     "output_type": "stream",
     "text": [
      "Departamento con más trabajadores por horas: STREETS & SAN\n",
      "Número de trabajadores por horas en ese departamento: 1862\n"
     ]
    }
   ],
   "source": [
    "# Crear una tabla cruzada para contar el número de trabajadores por horas en cada departamento\n",
    "crosstab_departamentos = pd.crosstab(empleados['Department'], empleados['Salary or Hourly'])\n",
    "\n",
    "# Filtrar solo los trabajadores por horas\n",
    "trabajadores_por_horas = crosstab_departamentos['Hourly']\n",
    "\n",
    "# Identificar el departamento con más trabajadores por horas\n",
    "departamento_mas_trabajadores_por_horas = trabajadores_por_horas.idxmax()\n",
    "max_trabajadores_por_horas = trabajadores_por_horas.max()\n",
    "\n",
    "# Mostrar los resultados\n",
    "print(f\"Departamento con más trabajadores por horas: {departamento_mas_trabajadores_por_horas}\")\n",
    "print(f\"Número de trabajadores por horas en ese departamento: {max_trabajadores_por_horas}\")\n"
   ]
  },
  {
   "cell_type": "markdown",
   "metadata": {},
   "source": [
    "The workers from the department with the most hourly workers have complained that their hourly wage is less than $35/hour. Using a one sample t-test, test this one-sided hypothesis at the 95% confidence level."
   ]
  },
  {
   "cell_type": "code",
   "execution_count": 18,
   "metadata": {},
   "outputs": [
    {
     "name": "stdout",
     "output_type": "stream",
     "text": [
      "Estadístico t: -9.567447887848152\n",
      "Valor p (unilateral): 1.6689265282353859e-21\n",
      "Rechazamos la hipótesis nula: el salario por hora es significativamente menor que $35/hora\n"
     ]
    }
   ],
   "source": [
    "# Filtrar los empleados por horas del departamento identificado\n",
    "empleados_por_hora_depto = empleados[(empleados['Department'] == departamento_mas_trabajadores_por_horas) & (empleados['Salary or Hourly'] == 'Hourly')]\n",
    "\n",
    "# Obtener las tarifas por hora y convertirlas a float\n",
    "tarifas_por_hora_depto = empleados_por_hora_depto['Hourly Rate'].dropna().astype(float)\n",
    "\n",
    "# Realizar la prueba t de una muestra\n",
    "media_hipotetica = 35\n",
    "t_stat, p_value = ttest_1samp(tarifas_por_hora_depto, media_hipotetica)\n",
    "\n",
    "# Ajustar el valor p para la prueba unilateral\n",
    "p_value_unilateral = p_value / 2\n",
    "\n",
    "# Mostrar los resultados\n",
    "print(f\"Estadístico t: {t_stat}\")\n",
    "print(f\"Valor p (unilateral): {p_value_unilateral}\")\n",
    "\n",
    "# Interpretación del resultado\n",
    "alpha = 0.05\n",
    "if p_value_unilateral < alpha and t_stat < 0:\n",
    "    print(\"Rechazamos la hipótesis nula: el salario por hora es significativamente menor que $35/hora\")\n",
    "else:\n",
    "    print(\"No podemos rechazar la hipótesis nula: el salario por hora no es significativamente menor que $35/hora\")\n"
   ]
  },
  {
   "cell_type": "markdown",
   "metadata": {},
   "source": [
    "# Challenge 3: To practice - Constructing Confidence Intervals\n",
    "\n",
    "While testing our hypothesis is a great way to gather empirical evidence for accepting or rejecting the hypothesis, another way to gather evidence is by creating a confidence interval. A confidence interval gives us information about the true mean of the population. So for a 95% confidence interval, we are 95% sure that the mean of the population is within the confidence interval. \n",
    ").\n",
    "\n",
    "To read more about confidence intervals, click [here](https://en.wikipedia.org/wiki/Confidence_interval).\n",
    "\n",
    "\n",
    "In the cell below, we will construct a 95% confidence interval for the mean hourly wage of all hourly workers. \n",
    "\n",
    "The confidence interval is computed in SciPy using the `t.interval` function. You can read more about this function [here](https://docs.scipy.org/doc/scipy-0.14.0/reference/generated/scipy.stats.t.html).\n",
    "\n",
    "To compute the confidence interval of the hourly wage, use the 0.95 for the confidence level, number of rows - 1 for degrees of freedom, the mean of the sample for the location parameter and the standard error for the scale. The standard error can be computed using [this](https://docs.scipy.org/doc/scipy/reference/generated/scipy.stats.sem.html) function in SciPy."
   ]
  },
  {
   "cell_type": "code",
   "execution_count": 24,
   "metadata": {},
   "outputs": [
    {
     "name": "stdout",
     "output_type": "stream",
     "text": [
      "Media del salario por hora: 32.78855771628024\n",
      "Error estándar: 0.1352368565101596\n",
      "Intervalo de confianza del 95%: (32.52345834488425, 33.05365708767623)\n"
     ]
    }
   ],
   "source": [
    "\n",
    "\n",
    "# Filtrar los empleados por horas\n",
    "empleados_por_hora = empleados[empleados['Salary or Hourly'] == 'Hourly']\n",
    "\n",
    "# Obtener las tarifas por hora y convertirlas a float\n",
    "tarifas_por_hora = empleados_por_hora['Hourly Rate'].dropna().astype(float)\n",
    "\n",
    "# Calcular la media y el error estándar de la media\n",
    "mean_hourly_wage = tarifas_por_hora.mean()\n",
    "std_error = sem(tarifas_por_hora)\n",
    "\n",
    "# Calcular el intervalo de confianza del 95%\n",
    "confidence_interval = t.interval(0.95, len(tarifas_por_hora)-1, loc=mean_hourly_wage, scale=std_error)\n",
    "\n",
    "# Mostrar los resultados\n",
    "print(f\"Media del salario por hora: {mean_hourly_wage}\")\n",
    "print(f\"Error estándar: {std_error}\")\n",
    "print(f\"Intervalo de confianza del 95%: {confidence_interval}\")\n"
   ]
  },
  {
   "cell_type": "markdown",
   "metadata": {},
   "source": [
    "Now construct the 95% confidence interval for all salaried employeed in the police in the cell below."
   ]
  },
  {
   "cell_type": "code",
   "execution_count": 29,
   "metadata": {},
   "outputs": [
    {
     "name": "stdout",
     "output_type": "stream",
     "text": [
      "Index(['Name', 'Job Titles', 'Department', 'Full or Part-Time',\n",
      "       'Salary or Hourly', 'Typical Hours', 'Annual Salary', 'Hourly Rate'],\n",
      "      dtype='object')\n",
      "                      Name                              Job Titles Department  \\\n",
      "0        AARON,  JEFFERY M                                SERGEANT     POLICE   \n",
      "1          AARON,  KARINA   POLICE OFFICER (ASSIGNED AS DETECTIVE)     POLICE   \n",
      "9         ABBATE,  TERRY M                          POLICE OFFICER     POLICE   \n",
      "11        ABDALLAH,  ZAID                           POLICE OFFICER     POLICE   \n",
      "12  ABDELHADI,  ABDALMAHD                           POLICE OFFICER     POLICE   \n",
      "\n",
      "   Full or Part-Time Salary or Hourly  Typical Hours  Annual Salary  \\\n",
      "0                  F           Salary            NaN       101442.0   \n",
      "1                  F           Salary            NaN        94122.0   \n",
      "9                  F           Salary            NaN        93354.0   \n",
      "11                 F           Salary            NaN        84054.0   \n",
      "12                 F           Salary            NaN        87006.0   \n",
      "\n",
      "    Hourly Rate  \n",
      "0           NaN  \n",
      "1           NaN  \n",
      "9           NaN  \n",
      "11          NaN  \n",
      "12          NaN  \n",
      "0     101442.0\n",
      "1      94122.0\n",
      "9      93354.0\n",
      "11     84054.0\n",
      "12     87006.0\n",
      "Name: Annual Salary, dtype: float64\n",
      "Media del salario anual: 86486.41450313339\n",
      "Error estándar: 157.82445675052244\n",
      "Intervalo de confianza del 95%: (86177.05631531784, 86795.77269094894)\n"
     ]
    }
   ],
   "source": [
    "# Verificar los nombres de las columnas\n",
    "print(empleados.columns)\n",
    "\n",
    "# Filtrar los empleados asalariados del departamento de policía\n",
    "policia_asalariados = empleados[(empleados['Department'] == 'POLICE') & (empleados['Salary or Hourly'] == 'Salary')]\n",
    "\n",
    "# Verificar los datos filtrados\n",
    "print(policia_asalariados.head())\n",
    "\n",
    "# Obtener los salarios anuales y convertirlos a float\n",
    "salarios_anuales = policia_asalariados['Annual Salary'].dropna().astype(float)\n",
    "\n",
    "# Verificar los salarios anuales\n",
    "print(salarios_anuales.head())\n",
    "\n",
    "# Calcular la media y el error estándar de la media\n",
    "mean_annual_salary = salarios_anuales.mean()\n",
    "std_error = sem(salarios_anuales)\n",
    "\n",
    "# Calcular el intervalo de confianza del 95%\n",
    "confidence_interval = t.interval(0.95, len(salarios_anuales)-1, loc=mean_annual_salary, scale=std_error)\n",
    "\n",
    "# Mostrar los resultados\n",
    "print(f\"Media del salario anual: {mean_annual_salary}\")\n",
    "print(f\"Error estándar: {std_error}\")\n",
    "print(f\"Intervalo de confianza del 95%: {confidence_interval}\")"
   ]
  },
  {
   "cell_type": "markdown",
   "metadata": {},
   "source": [
    "# Bonus Challenge - Hypothesis Tests of Proportions\n",
    "\n",
    "Another type of one sample test is a hypothesis test of proportions. In this test, we examine whether the proportion of a group in our sample is significantly different than a fraction. \n",
    "\n",
    "You can read more about one sample proportion tests [here](http://sphweb.bumc.bu.edu/otlt/MPH-Modules/BS/SAS/SAS6-CategoricalData/SAS6-CategoricalData2.html).\n",
    "\n",
    "In the cell below, use the `proportions_ztest` function from `statsmodels` to perform a hypothesis test that will determine whether the number of hourly workers in the City of Chicago is significantly different from 25% at the 95% confidence level."
   ]
  },
  {
   "cell_type": "code",
   "execution_count": null,
   "metadata": {},
   "outputs": [],
   "source": [
    "# Your code here:\n",
    "\n"
   ]
  }
 ],
 "metadata": {
  "kernelspec": {
   "display_name": "Python 3 (ipykernel)",
   "language": "python",
   "name": "python3"
  },
  "language_info": {
   "codemirror_mode": {
    "name": "ipython",
    "version": 3
   },
   "file_extension": ".py",
   "mimetype": "text/x-python",
   "name": "python",
   "nbconvert_exporter": "python",
   "pygments_lexer": "ipython3",
   "version": "3.11.5"
  }
 },
 "nbformat": 4,
 "nbformat_minor": 2
}
